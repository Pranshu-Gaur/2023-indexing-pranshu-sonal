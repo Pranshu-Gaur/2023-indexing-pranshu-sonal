{
 "cells": [
  {
   "cell_type": "code",
   "execution_count": 1,
   "metadata": {
    "id": "fKlWxV0s76Wt"
   },
   "outputs": [],
   "source": [
    "from lsh import LSH\n",
    "import numpy as np"
   ]
  },
  {
   "cell_type": "code",
   "execution_count": 2,
   "metadata": {},
   "outputs": [],
   "source": [
    "def read_fvecs(fp):\n",
    "    a = np.fromfile(fp, dtype='int32')\n",
    "    d = a[0]\n",
    "    return a.reshape(-1, d+1)[:, 1:].copy().view('float32')\n",
    "\n",
    "# 1M samples\n",
    "xb = read_fvecs('./sift/sift_base.fvecs')\n",
    "# queries\n",
    "xq = read_fvecs('./sift/sift_query.fvecs')"
   ]
  },
  {
   "cell_type": "code",
   "execution_count": 3,
   "metadata": {
    "id": "sb-x0XtQBBUk"
   },
   "outputs": [],
   "source": [
    "points = xb\n",
    "queries = points[:1000]"
   ]
  },
  {
   "cell_type": "code",
   "execution_count": 4,
   "metadata": {
    "colab": {
     "base_uri": "https://localhost:8080/"
    },
    "id": "ShH5Nqt1iwNS",
    "outputId": "f8e9f022-4769-4f8f-a32a-25e588a32f22"
   },
   "outputs": [
    {
     "name": "stdout",
     "output_type": "stream",
     "text": [
      "Please select any Algorithm: \n",
      " 1 - Product Quantization \n",
      " 2 - Locality Sensitive Hashing \n",
      " 3 - Scalable Nearest Neighbours \n",
      " 4 - Hierarchical Navigable Small Worlds \n",
      " 5 - Optimized Product Quantization \n",
      "2\n"
     ]
    }
   ],
   "source": [
    "Algo_idx = int(input(\"Please select any Algorithm: \\n 1 - Product Quantization \\n 2 - Locality Sensitive Hashing \\n 3 - Scalable Nearest Neighbours \\n 4 - Hierarchical Navigable Small Worlds \\n 5 - Optimized Product Quantization \\n\"))"
   ]
  },
  {
   "cell_type": "code",
   "execution_count": 5,
   "metadata": {
    "id": "UXDk5ZBwjZDK"
   },
   "outputs": [],
   "source": [
    "Algorithms = []\n",
    "Algorithms.append(LSH)\n",
    "Algorithms.append(LSH)"
   ]
  },
  {
   "cell_type": "code",
   "execution_count": null,
   "metadata": {
    "colab": {
     "base_uri": "https://localhost:8080/"
    },
    "id": "hFD-ouFBjrZN",
    "outputId": "e78a850d-60bb-4a09-ed40-987e28b5a95b"
   },
   "outputs": [],
   "source": [
    "Algorithms[Algo_idx-1](points,queries)"
   ]
  },
  {
   "cell_type": "code",
   "execution_count": null,
   "metadata": {
    "colab": {
     "base_uri": "https://localhost:8080/"
    },
    "id": "HAxqxYnMDDWZ",
    "outputId": "53eec1fc-de06-4526-ab7d-b062dd702c30"
   },
   "outputs": [],
   "source": [
    "LSH(points,queries)"
   ]
  },
  {
   "cell_type": "code",
   "execution_count": null,
   "metadata": {
    "id": "_CW37xFqBopr"
   },
   "outputs": [],
   "source": []
  }
 ],
 "metadata": {
  "colab": {
   "provenance": []
  },
  "kernelspec": {
   "display_name": "Python 3 (ipykernel)",
   "language": "python",
   "name": "python3"
  },
  "language_info": {
   "codemirror_mode": {
    "name": "ipython",
    "version": 3
   },
   "file_extension": ".py",
   "mimetype": "text/x-python",
   "name": "python",
   "nbconvert_exporter": "python",
   "pygments_lexer": "ipython3",
   "version": "3.9.12"
  }
 },
 "nbformat": 4,
 "nbformat_minor": 1
}
